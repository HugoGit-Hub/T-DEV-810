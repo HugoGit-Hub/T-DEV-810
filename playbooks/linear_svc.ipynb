{
 "cells": [
  {
   "cell_type": "code",
   "execution_count": 9,
   "metadata": {},
   "outputs": [],
   "source": [
    "import os\n",
    "import cv2\n",
    "import numpy as np\n",
    "\n",
    "img_size = (150, 150)\n",
    "\n",
    "def resize_images_from_directory(directory):\n",
    "    images = []\n",
    "    labels = []\n",
    "    for label in os.listdir(directory):\n",
    "        label_dir = os.path.join(directory, label)\n",
    "        for filename in os.listdir(label_dir):\n",
    "            img_path = os.path.join(label_dir, filename)\n",
    "            img = cv2.imread(img_path)\n",
    "            img = cv2.resize(img, img_size)\n",
    "            images.append(img)\n",
    "            labels.append(label)\n",
    "    return np.array(images), np.array(labels)\n",
    "\n",
    "train_dir = '../dataset/chest_xray/train'\n",
    "validation_dir = '../dataset/chest_xray/val'\n",
    "test_dir = '../dataset/chest_xray/test'\n",
    "\n",
    "X_train, y_train = resize_images_from_directory(train_dir)\n",
    "X_validation, y_validation = resize_images_from_directory(validation_dir)\n",
    "X_test, y_test = resize_images_from_directory(test_dir)\n",
    "\n",
    "X_train = X_train.reshape(X_train.shape[0], -1)\n",
    "X_validation = X_validation.reshape(X_validation.shape[0], -1)\n",
    "X_test = X_test.reshape(X_test.shape[0], -1)"
   ]
  },
  {
   "cell_type": "code",
   "execution_count": 11,
   "metadata": {},
   "outputs": [
    {
     "name": "stderr",
     "output_type": "stream",
     "text": [
      "C:\\Users\\H.DECUQ\\AppData\\Local\\Packages\\PythonSoftwareFoundation.Python.3.12_qbz5n2kfra8p0\\LocalCache\\local-packages\\Python312\\site-packages\\sklearn\\svm\\_classes.py:31: FutureWarning: The default value of `dual` will change from `True` to `'auto'` in 1.5. Set the value of `dual` explicitly to suppress the warning.\n",
      "  warnings.warn(\n"
     ]
    }
   ],
   "source": [
    "import matplotlib.pyplot as plt\n",
    "from sklearn.svm import LinearSVC\n",
    "\n",
    "X_train = X_train.reshape(X_train.shape[0], -1)\n",
    "X_validation = X_validation.reshape(X_validation.shape[0], -1)\n",
    "X_test = X_test.reshape(X_test.shape[0], -1)\n",
    "\n",
    "model = LinearSVC()\n",
    "model.fit(X_train, y_train)\n",
    "model.score(X_validation, y_validation)\n",
    "\n",
    "predictions = model.predict(X_test)\n",
    "\n",
    "plt.scatter(X_test, y_test)\n",
    "plt.plot(X_test, predictions, 'r')"
   ]
  }
 ],
 "metadata": {
  "kernelspec": {
   "display_name": "Python 3",
   "language": "python",
   "name": "python3"
  },
  "language_info": {
   "codemirror_mode": {
    "name": "ipython",
    "version": 3
   },
   "file_extension": ".py",
   "mimetype": "text/x-python",
   "name": "python",
   "nbconvert_exporter": "python",
   "pygments_lexer": "ipython3",
   "version": "3.12.3"
  }
 },
 "nbformat": 4,
 "nbformat_minor": 2
}
